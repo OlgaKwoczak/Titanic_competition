{
 "cells": [
  {
   "cell_type": "code",
   "execution_count": 13,
   "metadata": {},
   "outputs": [
    {
     "name": "stdout",
     "output_type": "stream",
     "text": [
      "[1 0 0 0 1 1 1 0 0 0 0 0 1 1 1 0 0 1 1 0 1 0 0 1 0 0 0 0 0 0 0 0 1 1 1 0 1\n",
      " 0 0 1 0 1 0 0 1 1 0 1 0 0 0 0 1 0 0 0 0 0 1 0 0 0 1 1 0 0 0 1 0 0 0 1 1 0\n",
      " 0 1 0 0 1 1 0 0 1 1 0 1 0 1 1 1 1 0 0 0 0 0 0 0 0 1 1 0 0 0 0 1 0 0 1 1 1\n",
      " 0 1 1 0 0 0 1 1 1 0 1 0 0 0]\n"
     ]
    },
    {
     "name": "stderr",
     "output_type": "stream",
     "text": [
      "C:\\Users\\HP\\AppData\\Roaming\\Python\\Python39\\site-packages\\sklearn\\utils\\validation.py:1143: DataConversionWarning: A column-vector y was passed when a 1d array was expected. Please change the shape of y to (n_samples, ), for example using ravel().\n",
      "  y = column_or_1d(y, warn=True)\n",
      "C:\\Users\\HP\\AppData\\Roaming\\Python\\Python39\\site-packages\\sklearn\\linear_model\\_logistic.py:458: ConvergenceWarning: lbfgs failed to converge (status=1):\n",
      "STOP: TOTAL NO. of ITERATIONS REACHED LIMIT.\n",
      "\n",
      "Increase the number of iterations (max_iter) or scale the data as shown in:\n",
      "    https://scikit-learn.org/stable/modules/preprocessing.html\n",
      "Please also refer to the documentation for alternative solver options:\n",
      "    https://scikit-learn.org/stable/modules/linear_model.html#logistic-regression\n",
      "  n_iter_i = _check_optimize_result(\n"
     ]
    }
   ],
   "source": [
    "#Kaggle competition \"Titanic - Machine Learning from Disaster\"\n",
    "\n",
    "import numpy as np\n",
    "import pandas as pd\n",
    "\n",
    "from sklearn.linear_model import LogisticRegression\n",
    "from sklearn.metrics import precision_recall_fscore_support\n",
    "from sklearn.model_selection import train_test_split\n",
    "\n",
    "\n",
    "FEATURES = [\n",
    "    \"PassengerId\",\"Pclass\",\"Sex\",\"Age\",\"SibSp\",\"Parch\",\"Fare\",\n",
    "]\n",
    "\n",
    "\n",
    "def preprocess(alldata):\n",
    "    alldata[\"Sex\"] = alldata[\"Sex\"].apply(lambda x: 1 if x in [\"female\"] else 0)\n",
    "    alldata[\"is_miss\"] = alldata[\"Name\"].apply(\n",
    "    lambda x: 1 if \"miss\" in x.lower() else 0)\n",
    "\n",
    "    alldata[\"is_mrs\"] = alldata[\"Name\"].apply(\n",
    "        lambda x: 1 if \"mrs\" in x.lower() else 0)\n",
    "    \n",
    "    alldata=alldata.fillna(value={'Age':alldata[\"Age\"].mean()})\n",
    "    \n",
    "    alldata[\"Cabin\"] = alldata[\"Cabin\"].apply(str)\n",
    "\n",
    "    deck_types = ['A','B','C','D','E','F','G','T']\n",
    "    select_column_names = []\n",
    "\n",
    "    for i in deck_types:\n",
    "        new_column_name = \"deck{}\".format(i)\n",
    "        alldata[new_column_name] = alldata[\"Cabin\"].apply(\n",
    "        lambda x: 1 if i in x else 0)\n",
    "        select_column_names.append(new_column_name)\n",
    "    \n",
    "    alldata.dropna(subset=[\"Embarked\"], inplace=True)\n",
    "    \n",
    "    alldata[\"Embarked\"] = alldata[\"Embarked\"].apply(str)\n",
    "\n",
    "    port_types = ['C','Q','S']\n",
    "\n",
    "    for i in port_types:\n",
    "        new_column_name = \"is {}\".format(i)\n",
    "        alldata[new_column_name] = alldata[\"Embarked\"].apply(\n",
    "        lambda x: 1 if i in x else 0)\n",
    "        \n",
    "    alldata.drop(\"Name\", axis=1, inplace=True)\n",
    "    alldata.drop(\"Ticket\", axis=1, inplace=True)\n",
    "    alldata.drop(\"Cabin\", axis=1, inplace=True)\n",
    "    alldata.drop(\"Embarked\", axis=1, inplace=True)\n",
    "    \n",
    "    return alldata\n",
    "\n",
    "dataset_filename = \"titanic.tsv\"\n",
    "  \n",
    "alldata = pd.read_csv(\n",
    "    dataset_filename,\n",
    "    header=0,\n",
    "    sep=\"\\t\",\n",
    "    usecols=[\n",
    "        \"Survived\",\"PassengerId\",\"Pclass\",\"Name\",\"Sex\",\"Age\",\"SibSp\",\"Parch\",\"Ticket\",\"Fare\",\"Cabin\",\"Embarked\",\n",
    "    ],\n",
    ")\n",
    "\n",
    "columns = alldata.columns[1:]\n",
    "alldata = preprocess(alldata)\n",
    "alldata = alldata[FEATURES + [\"Survived\"]]  \n",
    "\n",
    "data_train, data_test = train_test_split(alldata, test_size=0.2)\n",
    "\n",
    "y_train = pd.DataFrame(data_train[\"Survived\"])\n",
    "x_train = pd.DataFrame(data_train[FEATURES])\n",
    "model = LogisticRegression() \n",
    "model.fit(x_train, y_train)\n",
    "\n",
    "y_expected = pd.DataFrame(data_test[\"Survived\"])\n",
    "x_test = pd.DataFrame(data_test[FEATURES])\n",
    "y_predicted = model.predict(x_test)\n",
    "\n",
    "print(y_predicted) \n"
   ]
  },
  {
   "cell_type": "code",
   "execution_count": 14,
   "metadata": {},
   "outputs": [
    {
     "name": "stdout",
     "output_type": "stream",
     "text": [
      "Precision: 0.808\n",
      "Recall: 0.808\n",
      "F-score: 0.808\n",
      "Model score: 0.808\n"
     ]
    }
   ],
   "source": [
    "precision, recall, fscore, support = precision_recall_fscore_support(\n",
    "    y_expected, y_predicted, average=\"micro\"\n",
    ")\n",
    "\n",
    "print(f\"Precision: {precision}\")\n",
    "print(f\"Recall: {recall}\")\n",
    "print(f\"F-score: {fscore}\")\n",
    "\n",
    "score = model.score(x_test, y_expected)\n",
    "\n",
    "print(f\"Model score: {score}\")"
   ]
  }
 ],
 "metadata": {
  "kernelspec": {
   "display_name": "Python 3",
   "language": "python",
   "name": "python3"
  },
  "language_info": {
   "codemirror_mode": {
    "name": "ipython",
    "version": 3
   },
   "file_extension": ".py",
   "mimetype": "text/x-python",
   "name": "python",
   "nbconvert_exporter": "python",
   "pygments_lexer": "ipython3",
   "version": "3.9.1"
  },
  "orig_nbformat": 4
 },
 "nbformat": 4,
 "nbformat_minor": 2
}
